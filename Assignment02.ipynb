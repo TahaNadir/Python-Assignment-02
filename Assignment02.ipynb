{
 "cells": [
  {
   "cell_type": "code",
   "execution_count": 26,
   "id": "a6c75f2d-a7c1-4413-8cfe-aa4fcba02a45",
   "metadata": {},
   "outputs": [
    {
     "name": "stdin",
     "output_type": "stream",
     "text": [
      "Enter your age:  66\n"
     ]
    },
    {
     "name": "stdout",
     "output_type": "stream",
     "text": [
      "Senior\n"
     ]
    }
   ],
   "source": [
    "# Question 01: Age Group Classification\n",
    "age = int(input(\"Enter your age: \"))\n",
    "if 0 <= age <= 12:\n",
    "    print(\"Child\")\n",
    "if 13 <= age <= 19:\n",
    "    print(\"Teenager\")\n",
    "if 20 <= age <= 64:\n",
    "    print(\"Adult\")\n",
    "elif age >= 65:\n",
    "    print(\"Senior\")\n",
    "else:\n",
    "    print(\"Invalid age\")"
   ]
  },
  {
   "cell_type": "code",
   "execution_count": 30,
   "id": "4091839c-c5ba-4bcb-95b5-6b338372549c",
   "metadata": {},
   "outputs": [
    {
     "name": "stdin",
     "output_type": "stream",
     "text": [
      "Enter membership status (premium/regular):  Premium\n",
      "Enter the purchase amount:  1700\n"
     ]
    },
    {
     "name": "stdout",
     "output_type": "stream",
     "text": [
      "Eligible for discount\n"
     ]
    }
   ],
   "source": [
    "# Question 02: Checking for Eligibilty for discount\n",
    "membership = input(\"Enter membership status (premium/regular): \").lower()\n",
    "amount = float(input(\"Enter the purchase amount: \"))\n",
    "\n",
    "if (membership == \"premium\" and amount >= 1000) or (membership == \"regular\" and amount >= 2000):\n",
    "    print(\"Eligible for discount\")\n",
    "else:\n",
    "    print(\"Not eligible for discount\")"
   ]
  },
  {
   "cell_type": "code",
   "execution_count": 37,
   "id": "91459bf0-8cfe-4af8-b804-797d4df22eca",
   "metadata": {},
   "outputs": [
    {
     "name": "stdin",
     "output_type": "stream",
     "text": [
      "Enter your age:  18\n",
      "Enter your Citizenship status (citizen/non-citizen):  non-citizen\n"
     ]
    },
    {
     "name": "stdout",
     "output_type": "stream",
     "text": [
      "You're not Eligible to vote.\n"
     ]
    }
   ],
   "source": [
    "# Question 03: Voting Eligibility Check\n",
    "age = int(input(\"Enter your age: \"))\n",
    "citizenship = input(\"Enter your Citizenship status (citizen/non-citizen): \").lower()\n",
    "if (age >= 18 and citizenship == \"citizen\") or (age >= 16 and citizenship == \"citizen\"):\n",
    "    print(\"You're Eligible to vote.\")\n",
    "else:\n",
    "    print(\"You're not Eligible to vote.\")"
   ]
  },
  {
   "cell_type": "code",
   "execution_count": 43,
   "id": "da8b3e1f-aec0-42f2-affc-bc7b9ba1647a",
   "metadata": {},
   "outputs": [
    {
     "name": "stdin",
     "output_type": "stream",
     "text": [
      "Enter performance rating (Excellent/Good/Satisfactory):  Good\n",
      "Enter years of service:  5\n"
     ]
    },
    {
     "name": "stdout",
     "output_type": "stream",
     "text": [
      "Not eligible for bonus.\n"
     ]
    }
   ],
   "source": [
    "# Question 04: Employee Salary Eligibility\n",
    "performance = input(\"Enter performance rating (Excellent/Good/Satisfactory): \").lower()\n",
    "years_of_service = int(input(\"Enter years of service: \"))\n",
    "\n",
    "if (performance == \"excellent\" and years_of_service >= 5) or (performance == \"good\" and years_of_service >= 10) or (performance == \"satisfactory\" or years_of_service >= 15):\n",
    "    print(\"Eligible for bonus.\")\n",
    "else:\n",
    "    print(\"Not eligible for bonus.\")"
   ]
  },
  {
   "cell_type": "code",
   "execution_count": 45,
   "id": "138cec1e-ed6e-46ab-a7ea-95b280a52dff",
   "metadata": {},
   "outputs": [
    {
     "name": "stdout",
     "output_type": "stream",
     "text": [
      "Modified Text: I'm_learning_Python_programming\n",
      "Number of underscores: 3\n",
      "Position of first underscore: 3\n"
     ]
    }
   ],
   "source": [
    "# Question 05: Replace Spaces, Count Underscores and Find Position.\n",
    "text = \"I'm learning Python programming\"\n",
    "# Replace spaces with underscores\n",
    "modified_text = text.replace(\" \", \"_\")\n",
    "# Count underscores\n",
    "underscore_count = modified_text.count(\"_\")\n",
    "# Find the position of the first underscore\n",
    "first_underscore = modified_text.find(\"_\")\n",
    "print(\"Modified Text:\", modified_text)\n",
    "print(\"Number of underscores:\", underscore_count)\n",
    "print(\"Position of first underscore:\", first_underscore)\n"
   ]
  },
  {
   "cell_type": "code",
   "execution_count": 51,
   "id": "4e9fa087-229e-4c15-85a5-d54b196dad76",
   "metadata": {},
   "outputs": [
    {
     "name": "stdin",
     "output_type": "stream",
     "text": [
      "Enter a string:  2\n"
     ]
    },
    {
     "name": "stdout",
     "output_type": "stream",
     "text": [
      "All characters except the last 3: \n",
      "Every second character: 2\n",
      "String in reverse: 2\n"
     ]
    }
   ],
   "source": [
    "# Question 06: String Slicing Operations.\n",
    "text = input(\"Enter a string: \")\n",
    "# All characters except the last 3\n",
    "print(\"All characters except the last 3:\", text[:-3])\n",
    "# Every second character\n",
    "print(\"Every second character:\", text[::2])\n",
    "# Reverse string\n",
    "print(\"String in reverse:\", text[::-1])"
   ]
  },
  {
   "cell_type": "code",
   "execution_count": 55,
   "id": "1a2bac9a-1647-4afb-83d5-3b7ca9985da4",
   "metadata": {},
   "outputs": [
    {
     "name": "stdout",
     "output_type": "stream",
     "text": [
      "Reversed sentence: Python learning are We world, Hello\n"
     ]
    }
   ],
   "source": [
    "# Question 07: Reverse Words in sentence.\n",
    "text = \"Hello world, We are learning Python\"\n",
    "reversed_words = \" \".join(text.split()[::-1])\n",
    "print(\"Reversed sentence:\", reversed_words)"
   ]
  },
  {
   "cell_type": "code",
   "execution_count": 57,
   "id": "fe3edfbc-b362-4ea9-aace-5430b144fd97",
   "metadata": {},
   "outputs": [
    {
     "name": "stdout",
     "output_type": "stream",
     "text": [
      "Extracted number: 12345\n"
     ]
    }
   ],
   "source": [
    "# Question 08: Extract number from product code.\n",
    "product_code = \"SKU-12345-XYZ\"\n",
    "# Remove \"SKU-\" and \"-XYZ\"\n",
    "number = product_code.replace(\"SKU-\", \"\").replace(\"-XYZ\", \"\")\n",
    "print(\"Extracted number:\", number)"
   ]
  },
  {
   "cell_type": "code",
   "execution_count": 61,
   "id": "92e7194f-7b96-4974-9d05-5d3a78f21cde",
   "metadata": {},
   "outputs": [
    {
     "name": "stdin",
     "output_type": "stream",
     "text": [
      "Enter the password:  Hi\n"
     ]
    },
    {
     "name": "stdout",
     "output_type": "stream",
     "text": [
      "Contains uppercase: True\n",
      "Contains lowercase: True\n",
      "Contains spaces: False\n",
      "Contains special characters: False\n"
     ]
    }
   ],
   "source": [
    "# Question 09: Password check.\n",
    "import string\n",
    "password = input(\"Enter the password: \")\n",
    "has_upper = any(char.isupper() for char in password)\n",
    "has_lower = any(char.islower() for char in password)\n",
    "has_space = any(char.isspace() for char in password)\n",
    "has_special = any(char in string.punctuation for char in password)\n",
    "\n",
    "print(\"Contains uppercase:\", has_upper)\n",
    "print(\"Contains lowercase:\", has_lower)\n",
    "print(\"Contains spaces:\", has_space)\n",
    "print(\"Contains special characters:\", has_special)\n"
   ]
  },
  {
   "cell_type": "code",
   "execution_count": 63,
   "id": "c4277613-6311-4634-a084-e60fc07798a0",
   "metadata": {},
   "outputs": [
    {
     "name": "stdout",
     "output_type": "stream",
     "text": [
      "Longest word: programming\n"
     ]
    }
   ],
   "source": [
    "# Question 10: Finding the longest words.\n",
    "sentence = \"I love programming in Python\"\n",
    "words = sentence.split()\n",
    "longest_word = max(words, key=len)\n",
    "print(\"Longest word:\", longest_word)"
   ]
  },
  {
   "cell_type": "code",
   "execution_count": null,
   "id": "3bb07594-9909-48d4-8cef-a4ffcd5bc1c2",
   "metadata": {},
   "outputs": [],
   "source": []
  }
 ],
 "metadata": {
  "kernelspec": {
   "display_name": "Python [conda env:base] *",
   "language": "python",
   "name": "conda-base-py"
  },
  "language_info": {
   "codemirror_mode": {
    "name": "ipython",
    "version": 3
   },
   "file_extension": ".py",
   "mimetype": "text/x-python",
   "name": "python",
   "nbconvert_exporter": "python",
   "pygments_lexer": "ipython3",
   "version": "3.12.7"
  }
 },
 "nbformat": 4,
 "nbformat_minor": 5
}
